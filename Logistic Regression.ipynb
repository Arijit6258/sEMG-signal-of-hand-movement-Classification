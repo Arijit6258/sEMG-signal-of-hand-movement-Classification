{
 "cells": [
  {
   "cell_type": "markdown",
   "metadata": {},
   "source": [
    "# Importing all Required Libraries"
   ]
  },
  {
   "cell_type": "code",
   "execution_count": 31,
   "metadata": {},
   "outputs": [],
   "source": [
    "import numpy as np\n",
    "import pandas as pd\n",
    "import seaborn as sns\n",
    "import matplotlib.pyplot as plt\n",
    "from sklearn.linear_model import LogisticRegression\n",
    "from sklearn.metrics import classification_report\n",
    "from sklearn.metrics import confusion_matrix\n",
    "from sklearn.metrics import accuracy_score"
   ]
  },
  {
   "cell_type": "markdown",
   "metadata": {},
   "source": [
    "## Reading Data"
   ]
  },
  {
   "cell_type": "code",
   "execution_count": 5,
   "metadata": {},
   "outputs": [],
   "source": [
    "x_train = np.genfromtxt('x_train.csv', delimiter = ',')[1:, 1:]\n",
    "x_validate = np.genfromtxt('x_validate.csv', delimiter = ',')[1:, 1:]\n",
    "x_test = np.genfromtxt('x_test.csv', delimiter = ',')[1:, 1:]"
   ]
  },
  {
   "cell_type": "code",
   "execution_count": 9,
   "metadata": {},
   "outputs": [],
   "source": [
    "y_train = np.genfromtxt('y_train.csv', delimiter = ',')[1:, 1:]\n",
    "y_train = y_train.reshape(y_train.shape[0])\n",
    "\n",
    "y_test = np.genfromtxt('y_test.csv', delimiter = ',')[1:, 1:]\n",
    "y_test = y_test.reshape(y_test.shape[0])\n",
    "\n",
    "y_validate = np.genfromtxt('y_validate.csv', delimiter = ',')[1:, 1:]\n",
    "y_validate = y_validate.reshape(y_validate.shape[0])"
   ]
  },
  {
   "cell_type": "markdown",
   "metadata": {},
   "source": [
    "## Base Line Model"
   ]
  },
  {
   "cell_type": "code",
   "execution_count": 13,
   "metadata": {},
   "outputs": [],
   "source": [
    "clf = LogisticRegression(random_state = 0, max_iter = 7000)\n",
    "clf.fit(x_train, y_train)\n",
    "y_pred = clf.predict(x_test)"
   ]
  },
  {
   "cell_type": "code",
   "execution_count": 19,
   "metadata": {},
   "outputs": [
    {
     "name": "stdout",
     "output_type": "stream",
     "text": [
      "              precision    recall  f1-score   support\n",
      "\n",
      "         1.0       1.00      1.00      1.00       879\n",
      "         2.0       1.00      1.00      1.00       888\n",
      "         3.0       0.97      1.00      0.98       878\n",
      "         4.0       0.91      0.96      0.93       897\n",
      "         5.0       1.00      1.00      1.00       874\n",
      "         6.0       0.98      0.99      0.98       883\n",
      "         7.0       0.94      0.92      0.93       898\n",
      "         8.0       1.00      0.93      0.96       843\n",
      "\n",
      "    accuracy                           0.97      7040\n",
      "   macro avg       0.97      0.97      0.97      7040\n",
      "weighted avg       0.97      0.97      0.97      7040\n",
      "\n",
      "\n",
      "Accuracy Score :  0.9732954545454545\n",
      "\n",
      "\n",
      " confusion matrix : \n",
      "\n",
      " [[879   0   0   0   0   0   0   0]\n",
      " [  0 887   0   0   0   1   0   0]\n",
      " [  0   0 875   2   0   1   0   0]\n",
      " [  0   0   6 862   0   1  28   0]\n",
      " [  0   0   0   0 872   2   0   0]\n",
      " [  0   1   1   2   1 871   7   0]\n",
      " [  0   0   0  59   1  16 822   0]\n",
      " [  0   0  18  22   0   1  18 784]]\n"
     ]
    }
   ],
   "source": [
    "print(classification_report(y_test, y_pred))\n",
    "print(\"\\nAccuracy Score : \", accuracy_score(y_test, y_pred))\n",
    "print(\"\\n\\n\", \"confusion matrix : \\n\\n\", confusion_matrix(y_test, y_pred))"
   ]
  },
  {
   "cell_type": "markdown",
   "metadata": {},
   "source": [
    "### Effecte of C on Acccuracy and Parameter tuning"
   ]
  },
  {
   "cell_type": "code",
   "execution_count": 21,
   "metadata": {},
   "outputs": [],
   "source": [
    "def Parameter_Tuning(x_train_scaled, x_validate_scaled, y_train, y_validate):\n",
    "    max_acc = -1\n",
    "    c_max = 1 \n",
    "    c_range = np.logspace(-4, 0, 10)\n",
    "    train_accuracy_score_list = list()\n",
    "    validate_accuracy_score_list = list()\n",
    "    for c in c_range:\n",
    "        \n",
    "        # fitting model\n",
    "        model = LogisticRegression(solver = 'lbfgs',C = c, random_state = 0, max_iter = 20000)\n",
    "        model.fit(x_train_scaled, y_train)\n",
    "        \n",
    "        # validating model and obtaining validation score\n",
    "        y_pred_validate = model.predict(x_validate_scaled)\n",
    "        acc_validate = accuracy_score(y_validate, y_pred_validate)\n",
    "        validate_accuracy_score_list.append(acc_validate)\n",
    "        \n",
    "        # obtaining training score\n",
    "        y_pred_train = model.predict(x_train_scaled)\n",
    "        acc_train = accuracy_score(y_train, y_pred_train)\n",
    "        train_accuracy_score_list.append(acc_train)\n",
    "        \n",
    "        print('c : ', c, \" accuracy_validate : \", acc_validate, \" accuracy_train : \", acc_train)\n",
    "        if max_acc < acc_validate:\n",
    "            max_acc = acc_validate\n",
    "            c_max = c\n",
    "            \n",
    "    print('\\n\\nBest C for better accuracy : ', c_max)\n",
    "    return c_max, c_range, validate_accuracy_score_list, train_accuracy_score_list"
   ]
  },
  {
   "cell_type": "code",
   "execution_count": 23,
   "metadata": {},
   "outputs": [
    {
     "name": "stdout",
     "output_type": "stream",
     "text": [
      "c :  0.0001  accuracy_validate :  0.8946022727272728  accuracy_train :  0.8623078478964401\n",
      "c :  0.0002782559402207126  accuracy_validate :  0.9198863636363637  accuracy_train :  0.9009911003236246\n",
      "c :  0.000774263682681127  accuracy_validate :  0.9416193181818182  accuracy_train :  0.9326456310679612\n",
      "c :  0.002154434690031882  accuracy_validate :  0.9568181818181818  accuracy_train :  0.9533778317152104\n",
      "c :  0.005994842503189409  accuracy_validate :  0.9663352272727272  accuracy_train :  0.9670813106796117\n",
      "c :  0.016681005372000592  accuracy_validate :  0.9717329545454545  accuracy_train :  0.9746662621359223\n",
      "c :  0.046415888336127774  accuracy_validate :  0.9735795454545455  accuracy_train :  0.979470064724919\n",
      "c :  0.12915496650148828  accuracy_validate :  0.9728693181818182  accuracy_train :  0.9833131067961165\n",
      "c :  0.3593813663804626  accuracy_validate :  0.9727272727272728  accuracy_train :  0.98584142394822\n",
      "c :  1.0  accuracy_validate :  0.9713068181818182  accuracy_train :  0.9876112459546925\n",
      "\n",
      "\n",
      "Best C for better accuracy :  0.046415888336127774\n",
      "\n",
      "\n",
      "\n",
      "\n"
     ]
    },
    {
     "data": {
      "image/png": "[encoded data removed]",
      "text/plain": [
       "<Figure size 1080x720 with 1 Axes>"
      ]
     },
     "metadata": {
      "needs_background": "light"
     },
     "output_type": "display_data"
    }
   ],
   "source": [
    "c_max, c_range, validate_accuracy_score_list, train_accuracy_score_list = Parameter_Tuning(x_train, x_validate, y_train, y_validate)\n",
    "print('\\n\\n\\n')\n",
    "fig, ax = plt.subplots(figsize = (15, 10))\n",
    "ax.plot(c_range, validate_accuracy_score_list, marker = 'o', color = 'red', label = 'validate')\n",
    "ax.plot(c_range, train_accuracy_score_list, marker = 'o', color = 'blue', label = 'train')\n",
    "ax.set_xlabel(\"C Values\")\n",
    "ax.set_ylabel(\"Accuracy Score\")\n",
    "ax.set_title(\"C Values Vs Accuracy Scores of Train Data and Test Data\")\n",
    "ax.legend()\n",
    "plt.grid()\n",
    "plt.show()"
   ]
  },
  {
   "cell_type": "code",
   "execution_count": 25,
   "metadata": {},
   "outputs": [
    {
     "data": {
      "text/plain": [
       "LogisticRegression(C=0.046415888336127774, class_weight=None, dual=False,\n",
       "                   fit_intercept=True, intercept_scaling=1, l1_ratio=None,\n",
       "                   max_iter=20000, multi_class='auto', n_jobs=None,\n",
       "                   penalty='l2', random_state=0, solver='lbfgs', tol=0.0001,\n",
       "                   verbose=0, warm_start=False)"
      ]
     },
     "execution_count": 25,
     "metadata": {},
     "output_type": "execute_result"
    }
   ],
   "source": [
    "# fitting the model with train \n",
    "model = LogisticRegression(solver = 'lbfgs',C = c_max, random_state = 0, max_iter = 20000)\n",
    "model.fit(x_train, y_train)"
   ]
  },
  {
   "cell_type": "code",
   "execution_count": 26,
   "metadata": {},
   "outputs": [],
   "source": [
    "# predicted output on test dataset\n",
    "y_predict = model.predict(x_test)"
   ]
  },
  {
   "cell_type": "code",
   "execution_count": 27,
   "metadata": {},
   "outputs": [
    {
     "name": "stdout",
     "output_type": "stream",
     "text": [
      "              precision    recall  f1-score   support\n",
      "\n",
      "         1.0       1.00      1.00      1.00       879\n",
      "         2.0       1.00      1.00      1.00       888\n",
      "         3.0       0.98      0.99      0.99       878\n",
      "         4.0       0.92      0.94      0.93       897\n",
      "         5.0       0.99      0.99      0.99       874\n",
      "         6.0       0.96      0.98      0.97       883\n",
      "         7.0       0.93      0.92      0.92       898\n",
      "         8.0       1.00      0.98      0.99       843\n",
      "\n",
      "    accuracy                           0.97      7040\n",
      "   macro avg       0.97      0.97      0.97      7040\n",
      "weighted avg       0.97      0.97      0.97      7040\n",
      "\n",
      "\n",
      "\n",
      "Confusion Matrix : \n",
      "\n",
      "[[875   0   4   0   0   0   0   0]\n",
      " [  0 887   0   0   0   1   0   0]\n",
      " [  0   0 867   8   1   2   0   0]\n",
      " [  0   0   7 839   1   2  48   0]\n",
      " [  0   0   0   0 867   7   0   0]\n",
      " [  0   3   3   2   1 864  10   0]\n",
      " [  0   0   0  53   3  20 822   0]\n",
      " [  0   0   1  14   0   0   4 824]]\n",
      "\n",
      "\n",
      " Accuracy Score :  0.9723011363636364\n"
     ]
    }
   ],
   "source": [
    "# Model Analysis\n",
    "classification_rep = classification_report(y_test, y_predict)\n",
    "conf_mat = confusion_matrix(y_test, y_predict)\n",
    "accuracy = accuracy_score(y_test, y_predict)\n",
    "print(classification_rep)\n",
    "print('\\n\\nConfusion Matrix : \\n')\n",
    "print(conf_mat)\n",
    "print('\\n\\n Accuracy Score : ', accuracy)"
   ]
  },
  {
   "cell_type": "code",
   "execution_count": 32,
   "metadata": {},
   "outputs": [
    {
     "data": {
      "text/plain": [
       "Text(114.0, 0.5, 'Actual Class')"
      ]
     },
     "execution_count": 32,
     "metadata": {},
     "output_type": "execute_result"
    },
    {
     "data": {
      "image/png": "[encoded data removed]",
      "text/plain": [
       "<Figure size 1080x720 with 2 Axes>"
      ]
     },
     "metadata": {
      "needs_background": "light"
     },
     "output_type": "display_data"
    }
   ],
   "source": [
    "# visualization of the predicted class vs actual class (0 based indexing)\n",
    "plt.figure(figsize = (15, 10))\n",
    "classes = [i for i in range(1, 9)]\n",
    "df = pd.DataFrame(conf_mat, index = classes, columns = classes)\n",
    "sns.heatmap(df, annot = True)\n",
    "plt.xlabel('Predicted Class')\n",
    "plt.ylabel('Actual Class')"
   ]
  },
  {
   "cell_type": "code",
   "execution_count": null,
   "metadata": {},
   "outputs": [],
   "source": []
  }
 ],
 "metadata": {
  "kernelspec": {
   "display_name": "Python 3",
   "language": "python",
   "name": "python3"
  },
  "language_info": {
   "codemirror_mode": {
    "name": "ipython",
    "version": 3
   },
   "file_extension": ".py",
   "mimetype": "text/x-python",
   "name": "python",
   "nbconvert_exporter": "python",
   "pygments_lexer": "ipython3",
   "version": "3.7.6"
  }
 },
 "nbformat": 4,
 "nbformat_minor": 4
}
