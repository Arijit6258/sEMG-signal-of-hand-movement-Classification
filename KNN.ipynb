{
 "cells": [
  {
   "cell_type": "markdown",
   "metadata": {},
   "source": [
    "# Importing All required Libraries"
   ]
  },
  {
   "cell_type": "code",
   "execution_count": 7,
   "metadata": {},
   "outputs": [],
   "source": [
    "import numpy as np\n",
    "import pandas as pd\n",
    "import seaborn as sns\n",
    "import matplotlib.pyplot as plt\n",
    "from sklearn.neighbors import KNeighborsClassifier\n",
    "from sklearn.metrics import classification_report\n",
    "from sklearn.metrics import confusion_matrix\n",
    "from sklearn.metrics import accuracy_score"
   ]
  },
  {
   "cell_type": "markdown",
   "metadata": {},
   "source": [
    "# Reading Data"
   ]
  },
  {
   "cell_type": "code",
   "execution_count": 8,
   "metadata": {},
   "outputs": [],
   "source": [
    "x_train = np.genfromtxt('x_train.csv', delimiter = ',')[1:, 1:]\n",
    "x_validate = np.genfromtxt('x_validate.csv', delimiter = ',')[1:, 1:]\n",
    "x_test = np.genfromtxt('x_test.csv', delimiter = ',')[1:, 1:]"
   ]
  },
  {
   "cell_type": "code",
   "execution_count": 9,
   "metadata": {},
   "outputs": [],
   "source": [
    "y_train = np.genfromtxt('y_train.csv', delimiter = ',')[1:, 1:]\n",
    "y_train = y_train.reshape(y_train.shape[0])\n",
    "\n",
    "y_test = np.genfromtxt('y_test.csv', delimiter = ',')[1:, 1:]\n",
    "y_test = y_test.reshape(y_test.shape[0])\n",
    "\n",
    "y_validate = np.genfromtxt('y_validate.csv', delimiter = ',')[1:, 1:]\n",
    "y_validate = y_validate.reshape(y_validate.shape[0])"
   ]
  },
  {
   "cell_type": "markdown",
   "metadata": {},
   "source": [
    "# Base Line Model"
   ]
  },
  {
   "cell_type": "code",
   "execution_count": 66,
   "metadata": {},
   "outputs": [
    {
     "name": "stdout",
     "output_type": "stream",
     "text": [
      "Classification Report : \n",
      "\n",
      "               precision    recall  f1-score   support\n",
      "\n",
      "         1.0       1.00      1.00      1.00       879\n",
      "         2.0       0.99      0.99      0.99       888\n",
      "         3.0       0.97      0.99      0.98       878\n",
      "         4.0       0.86      0.94      0.90       897\n",
      "         5.0       0.98      0.95      0.96       874\n",
      "         6.0       0.88      0.92      0.90       883\n",
      "         7.0       0.93      0.86      0.90       898\n",
      "         8.0       1.00      0.95      0.98       843\n",
      "\n",
      "    accuracy                           0.95      7040\n",
      "   macro avg       0.95      0.95      0.95      7040\n",
      "weighted avg       0.95      0.95      0.95      7040\n",
      "\n",
      "\n",
      "\n",
      "Accuracy :  0.9492897727272728\n",
      "\n",
      "\n",
      "Confusion Matrix : \n",
      "\n",
      " [[876   0   1   0   1   1   0   0]\n",
      " [  0 883   0   2   0   3   0   0]\n",
      " [  0   0 866  11   0   1   0   0]\n",
      " [  0   0   6 844   2  11  34   0]\n",
      " [  0   1   6   0 826  41   0   0]\n",
      " [  0  11   9  18  11 813  21   0]\n",
      " [  0   1   0  66   3  56 772   0]\n",
      " [  0   0   4  36   0   0   0 803]]\n"
     ]
    }
   ],
   "source": [
    "clf = KNeighborsClassifier()\n",
    "clf.fit(x_train, y_train)\n",
    "y_pred = clf.predict(x_test)\n",
    "print(\"Classification Report : \\n\\n\", classification_report(y_test, y_pred))\n",
    "print(\"\\n\\nAccuracy : \", accuracy_score(y_test, y_pred))\n",
    "print(\"\\n\\nConfusion Matrix : \\n\\n\", confusion_matrix(y_test, y_pred))"
   ]
  },
  {
   "cell_type": "markdown",
   "metadata": {},
   "source": [
    "# Effect of n_neighbors on accuracy"
   ]
  },
  {
   "cell_type": "code",
   "execution_count": 19,
   "metadata": {},
   "outputs": [
    {
     "name": "stdout",
     "output_type": "stream",
     "text": [
      "1  :  0.944034090909091\n",
      "3  :  0.9511363636363637\n",
      "5  :  0.9552556818181818\n",
      "7  :  0.9546875\n",
      "9  :  0.9546875\n",
      "11  :  0.9526988636363637\n",
      "13  :  0.9526988636363637\n",
      "15  :  0.9526988636363637\n",
      "17  :  0.953125\n",
      "19  :  0.9529829545454546\n",
      "21  :  0.9522727272727273\n"
     ]
    }
   ],
   "source": [
    "x_axis = []\n",
    "y_axis = []\n",
    "for i in range(1, 22, 2):\n",
    "    clf = KNeighborsClassifier(n_neighbors = i)\n",
    "    clf.fit(x_train, y_train)\n",
    "    y_pred = clf.predict(x_validate)\n",
    "    print(i, \" : \", accuracy_score(y_validate, y_pred))\n",
    "    x_axis.append(i)\n",
    "    y_axis.append(accuracy_score(y_validate, y_pred))"
   ]
  },
  {
   "cell_type": "code",
   "execution_count": 29,
   "metadata": {},
   "outputs": [
    {
     "data": {
      "image/png": "[encoded data removed]",
      "text/plain": [
       "<Figure size 432x288 with 1 Axes>"
      ]
     },
     "metadata": {
      "needs_background": "light"
     },
     "output_type": "display_data"
    }
   ],
   "source": [
    "plt.scatter(x_axis, y_axis)\n",
    "plt.plot(x_axis, y_axis)\n",
    "plt.xlabel('N_Neighbors')\n",
    "plt.ylabel('Accuracy')\n",
    "plt.title(\"Accuracy VS n_neighbors\")\n",
    "plt.grid()\n",
    "plt.show()"
   ]
  },
  {
   "cell_type": "code",
   "execution_count": 21,
   "metadata": {},
   "outputs": [
    {
     "name": "stdout",
     "output_type": "stream",
     "text": [
      "Optima n_neighbor :  5\n"
     ]
    }
   ],
   "source": [
    "n_neighbor_optimal = -1\n",
    "optimal_accuracy = -1\n",
    "for i in range(len(x_axis)):\n",
    "    if y_axis[i] > optimal_accuracy:\n",
    "        optimal_accuracy = y_axis[i]\n",
    "        n_neighbor_optimal = x_axis[i]\n",
    "print(\"Optima n_neighbor : \", n_neighbor_optimal)"
   ]
  },
  {
   "cell_type": "code",
   "execution_count": 33,
   "metadata": {},
   "outputs": [
    {
     "data": {
      "text/plain": [
       "KNeighborsClassifier(algorithm='auto', leaf_size=30, metric='minkowski',\n",
       "                     metric_params=None, n_jobs=None, n_neighbors=5, p=2,\n",
       "                     weights='uniform')"
      ]
     },
     "execution_count": 33,
     "metadata": {},
     "output_type": "execute_result"
    }
   ],
   "source": [
    "clf = KNeighborsClassifier(n_neighbors = 5)\n",
    "clf.fit(x_train, y_train)"
   ]
  },
  {
   "cell_type": "code",
   "execution_count": 34,
   "metadata": {},
   "outputs": [
    {
     "name": "stdout",
     "output_type": "stream",
     "text": [
      "Classification Report : \n",
      "\n",
      "               precision    recall  f1-score   support\n",
      "\n",
      "         1.0       1.00      1.00      1.00       879\n",
      "         2.0       0.99      0.99      0.99       888\n",
      "         3.0       0.97      0.99      0.98       878\n",
      "         4.0       0.86      0.94      0.90       897\n",
      "         5.0       0.98      0.95      0.96       874\n",
      "         6.0       0.88      0.92      0.90       883\n",
      "         7.0       0.93      0.86      0.90       898\n",
      "         8.0       1.00      0.95      0.98       843\n",
      "\n",
      "    accuracy                           0.95      7040\n",
      "   macro avg       0.95      0.95      0.95      7040\n",
      "weighted avg       0.95      0.95      0.95      7040\n",
      "\n",
      "\n",
      "\n",
      "Accuracy :  0.9492897727272728\n",
      "\n",
      "\n",
      "Confusion Matrix : \n",
      "\n",
      " [[876   0   1   0   1   1   0   0]\n",
      " [  0 883   0   2   0   3   0   0]\n",
      " [  0   0 866  11   0   1   0   0]\n",
      " [  0   0   6 844   2  11  34   0]\n",
      " [  0   1   6   0 826  41   0   0]\n",
      " [  0  11   9  18  11 813  21   0]\n",
      " [  0   1   0  66   3  56 772   0]\n",
      " [  0   0   4  36   0   0   0 803]]\n"
     ]
    }
   ],
   "source": [
    "y_pred = clf.predict(x_test)\n",
    "print(\"Classification Report : \\n\\n\", classification_report(y_test, y_pred))\n",
    "print(\"\\n\\nAccuracy : \", accuracy_score(y_test, y_pred))\n",
    "print(\"\\n\\nConfusion Matrix : \\n\\n\", confusion_matrix(y_test, y_pred))"
   ]
  },
  {
   "cell_type": "markdown",
   "metadata": {},
   "source": [
    "# weights on Accuracy"
   ]
  },
  {
   "cell_type": "code",
   "execution_count": 52,
   "metadata": {},
   "outputs": [
    {
     "name": "stdout",
     "output_type": "stream",
     "text": [
      "uniform  :  0.9552556818181818\n",
      "distance  :  0.9575284090909091\n"
     ]
    }
   ],
   "source": [
    "weights = ['uniform', 'distance']\n",
    "y_preds = []\n",
    "for w in weights:\n",
    "    clf = KNeighborsClassifier(weights = w)\n",
    "    clf.fit(x_train, y_train)\n",
    "    y_pred = clf.predict(x_validate)\n",
    "    print(w, \" : \", accuracy_score(y_validate, y_pred))\n",
    "    y_preds.append(accuracy_score(y_validate, y_pred))"
   ]
  },
  {
   "cell_type": "code",
   "execution_count": 53,
   "metadata": {},
   "outputs": [
    {
     "data": {
      "image/png": "[encoded data removed]",
      "text/plain": [
       "<Figure size 432x288 with 1 Axes>"
      ]
     },
     "metadata": {
      "needs_background": "light"
     },
     "output_type": "display_data"
    }
   ],
   "source": [
    "plt.scatter(weights, y_preds)\n",
    "plt.plot(weights, y_preds)\n",
    "plt.xlabel('Weights')\n",
    "plt.ylabel(\"Accuracy\")\n",
    "plt.grid()\n",
    "plt.show()"
   ]
  },
  {
   "cell_type": "code",
   "execution_count": 54,
   "metadata": {},
   "outputs": [
    {
     "data": {
      "text/plain": [
       "KNeighborsClassifier(algorithm='auto', leaf_size=30, metric='minkowski',\n",
       "                     metric_params=None, n_jobs=None, n_neighbors=5, p=2,\n",
       "                     weights='distance')"
      ]
     },
     "execution_count": 54,
     "metadata": {},
     "output_type": "execute_result"
    }
   ],
   "source": [
    "clf = KNeighborsClassifier(weights = 'distance')\n",
    "clf.fit(x_train, y_train)"
   ]
  },
  {
   "cell_type": "code",
   "execution_count": 55,
   "metadata": {},
   "outputs": [
    {
     "name": "stdout",
     "output_type": "stream",
     "text": [
      "Classification Report : \n",
      "\n",
      "               precision    recall  f1-score   support\n",
      "\n",
      "         1.0       1.00      1.00      1.00       879\n",
      "         2.0       0.99      0.99      0.99       888\n",
      "         3.0       0.98      0.99      0.98       878\n",
      "         4.0       0.87      0.94      0.90       897\n",
      "         5.0       0.98      0.95      0.96       874\n",
      "         6.0       0.88      0.93      0.90       883\n",
      "         7.0       0.93      0.87      0.90       898\n",
      "         8.0       1.00      0.95      0.98       843\n",
      "\n",
      "    accuracy                           0.95      7040\n",
      "   macro avg       0.95      0.95      0.95      7040\n",
      "weighted avg       0.95      0.95      0.95      7040\n",
      "\n",
      "\n",
      "\n",
      "Accuracy :  0.9501420454545455\n",
      "\n",
      "\n",
      "Confusion Matrix : \n",
      "\n",
      " [[876   0   1   0   1   1   0   0]\n",
      " [  0 883   0   2   0   3   0   0]\n",
      " [  0   0 865  12   0   1   0   0]\n",
      " [  0   0   5 841   2  12  37   0]\n",
      " [  0   1   5   0 826  42   0   0]\n",
      " [  0  10   7  16  10 817  23   0]\n",
      " [  0   1   0  65   2  53 777   0]\n",
      " [  0   0   3  35   0   0   1 804]]\n"
     ]
    }
   ],
   "source": [
    "y_pred = clf.predict(x_test)\n",
    "print(\"Classification Report : \\n\\n\", classification_report(y_test, y_pred))\n",
    "print(\"\\n\\nAccuracy : \", accuracy_score(y_test, y_pred))\n",
    "print(\"\\n\\nConfusion Matrix : \\n\\n\", confusion_matrix(y_test, y_pred))"
   ]
  },
  {
   "cell_type": "markdown",
   "metadata": {},
   "source": [
    "# Effect Of Algorithms on Classifier"
   ]
  },
  {
   "cell_type": "code",
   "execution_count": 56,
   "metadata": {},
   "outputs": [
    {
     "name": "stdout",
     "output_type": "stream",
     "text": [
      "auto  :  0.9552556818181818\n",
      "kd_tree  :  0.9552556818181818\n",
      "ball_tree  :  0.9552556818181818\n"
     ]
    }
   ],
   "source": [
    "algorithms = ['auto', 'kd_tree', 'ball_tree']\n",
    "y_preds = list()\n",
    "for algorithm in algorithms:\n",
    "    clf = KNeighborsClassifier(algorithm = algorithm)\n",
    "    clf.fit(x_train, y_train)\n",
    "    y_pred = clf.predict(x_validate)\n",
    "    print(algorithm, \" : \", accuracy_score(y_validate, y_pred))\n",
    "    y_preds.append(accuracy_score(y_validate, y_pred))"
   ]
  },
  {
   "cell_type": "code",
   "execution_count": 57,
   "metadata": {},
   "outputs": [
    {
     "data": {
      "image/png": "[encoded data removed]",
      "text/plain": [
       "<Figure size 432x288 with 1 Axes>"
      ]
     },
     "metadata": {
      "needs_background": "light"
     },
     "output_type": "display_data"
    }
   ],
   "source": [
    "plt.scatter(algorithms, y_preds)\n",
    "plt.plot(algorithms, y_preds)\n",
    "plt.grid()\n",
    "plt.ylabel(\"Accuracy\")\n",
    "plt.xlabel(\"Algorithm\")\n",
    "plt.show()"
   ]
  },
  {
   "cell_type": "code",
   "execution_count": 58,
   "metadata": {},
   "outputs": [
    {
     "name": "stdout",
     "output_type": "stream",
     "text": [
      "So Algorithm type is not changing the Accuracy\n"
     ]
    }
   ],
   "source": [
    "print(\"So Algorithm type is not changing the Accuracy\")"
   ]
  },
  {
   "cell_type": "markdown",
   "metadata": {},
   "source": [
    "# Finding optimal Classifier"
   ]
  },
  {
   "cell_type": "code",
   "execution_count": 63,
   "metadata": {},
   "outputs": [],
   "source": [
    "n_neighbors = [i for i in range(1, 22, 2)]\n",
    "weights = ['uniform', 'distance']\n",
    "algorithms = ['auto', 'kd_tree', 'ball_tree']\n",
    "optimal_n_neighbor = -1\n",
    "optimal_weight = ''\n",
    "optimal_algo = ''\n",
    "max_acc = -1\n",
    "for i in n_neighbors:\n",
    "    for w in weights:\n",
    "        for algo in algorithms:\n",
    "            clf = KNeighborsClassifier(n_neighbors = i, weights = w, algorithm = algo)\n",
    "            clf.fit(x_train, y_train)\n",
    "            y_pred = clf.predict(x_validate)\n",
    "            acc = accuracy_score(y_validate, y_pred)\n",
    "            if acc > max_acc:\n",
    "                max_acc = acc\n",
    "                optima_n_neighbor = i\n",
    "                optimal_weight = w\n",
    "                optimal_algo = algo"
   ]
  },
  {
   "cell_type": "code",
   "execution_count": 65,
   "metadata": {},
   "outputs": [
    {
     "name": "stdout",
     "output_type": "stream",
     "text": [
      "optima_n_neighbor :  5\n",
      "optimal_weight :  distance\n",
      "optimal_algo :  auto\n"
     ]
    }
   ],
   "source": [
    "print(\"optima_n_neighbor : \", optima_n_neighbor)\n",
    "print(\"optimal_weight : \", optimal_weight)\n",
    "print(\"optimal_algo : \", optimal_algo)"
   ]
  },
  {
   "cell_type": "code",
   "execution_count": 68,
   "metadata": {},
   "outputs": [],
   "source": [
    "clf = KNeighborsClassifier(n_neighbors = optima_n_neighbor, weights = optimal_weight, algorithm = optimal_algo)"
   ]
  },
  {
   "cell_type": "code",
   "execution_count": 69,
   "metadata": {},
   "outputs": [
    {
     "data": {
      "text/plain": [
       "KNeighborsClassifier(algorithm='auto', leaf_size=30, metric='minkowski',\n",
       "                     metric_params=None, n_jobs=None, n_neighbors=5, p=2,\n",
       "                     weights='distance')"
      ]
     },
     "execution_count": 69,
     "metadata": {},
     "output_type": "execute_result"
    }
   ],
   "source": [
    "clf.fit(x_train, y_train)"
   ]
  },
  {
   "cell_type": "code",
   "execution_count": 70,
   "metadata": {},
   "outputs": [
    {
     "name": "stdout",
     "output_type": "stream",
     "text": [
      "Classification Report : \n",
      "\n",
      "               precision    recall  f1-score   support\n",
      "\n",
      "         1.0       1.00      1.00      1.00       879\n",
      "         2.0       0.99      0.99      0.99       888\n",
      "         3.0       0.98      0.99      0.98       878\n",
      "         4.0       0.87      0.94      0.90       897\n",
      "         5.0       0.98      0.95      0.96       874\n",
      "         6.0       0.88      0.93      0.90       883\n",
      "         7.0       0.93      0.87      0.90       898\n",
      "         8.0       1.00      0.95      0.98       843\n",
      "\n",
      "    accuracy                           0.95      7040\n",
      "   macro avg       0.95      0.95      0.95      7040\n",
      "weighted avg       0.95      0.95      0.95      7040\n",
      "\n",
      "\n",
      "\n",
      "Accuracy :  0.9501420454545455\n",
      "\n",
      "\n",
      "Confusion Matrix : \n",
      "\n",
      " [[876   0   1   0   1   1   0   0]\n",
      " [  0 883   0   2   0   3   0   0]\n",
      " [  0   0 865  12   0   1   0   0]\n",
      " [  0   0   5 841   2  12  37   0]\n",
      " [  0   1   5   0 826  42   0   0]\n",
      " [  0  10   7  16  10 817  23   0]\n",
      " [  0   1   0  65   2  53 777   0]\n",
      " [  0   0   3  35   0   0   1 804]]\n"
     ]
    }
   ],
   "source": [
    "y_pred = clf.predict(x_test)\n",
    "print(\"Classification Report : \\n\\n\", classification_report(y_test, y_pred))\n",
    "print(\"\\n\\nAccuracy : \", accuracy_score(y_test, y_pred))\n",
    "print(\"\\n\\nConfusion Matrix : \\n\\n\", confusion_matrix(y_test, y_pred))"
   ]
  },
  {
   "cell_type": "code",
   "execution_count": 73,
   "metadata": {},
   "outputs": [
    {
     "name": "stdout",
     "output_type": "stream",
     "text": [
      "Optimal Classifier :  KNeighborsClassifier(algorithm='auto', leaf_size=30, metric='minkowski',\n",
      "                     metric_params=None, n_jobs=None, n_neighbors=5, p=2,\n",
      "                     weights='distance')\n",
      "\n",
      "\n",
      "Maximum Accuracy Achieved :  0.9501420454545455\n"
     ]
    }
   ],
   "source": [
    "print(\"Optimal Classifier : \", clf)\n",
    "print(\"\\n\\nMaximum Accuracy Achieved : \", accuracy_score(y_test, y_pred))"
   ]
  },
  {
   "cell_type": "code",
   "execution_count": null,
   "metadata": {},
   "outputs": [],
   "source": []
  }
 ],
 "metadata": {
  "kernelspec": {
   "display_name": "Python 3",
   "language": "python",
   "name": "python3"
  },
  "language_info": {
   "codemirror_mode": {
    "name": "ipython",
    "version": 3
   },
   "file_extension": ".py",
   "mimetype": "text/x-python",
   "name": "python",
   "nbconvert_exporter": "python",
   "pygments_lexer": "ipython3",
   "version": "3.7.6"
  }
 },
 "nbformat": 4,
 "nbformat_minor": 4
}
