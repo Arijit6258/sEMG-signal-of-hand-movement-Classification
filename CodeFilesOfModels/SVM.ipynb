{
 "cells": [
  {
   "cell_type": "markdown",
   "metadata": {},
   "source": [
    "# Importing All required Libraries"
   ]
  },
  {
   "cell_type": "code",
   "execution_count": 1,
   "metadata": {},
   "outputs": [],
   "source": [
    "## for data reading\n",
    "import numpy as np\n",
    "import pandas as pd\n",
    "\n",
    "## for model analysis\n",
    "from sklearn.metrics import classification_report\n",
    "from sklearn.metrics import confusion_matrix\n",
    "from sklearn.metrics import accuracy_score\n",
    "\n",
    "## for graphical representation\n",
    "import seaborn as sns\n",
    "import matplotlib.pyplot as plt\n",
    "\n",
    "from sklearn.svm import SVC\n",
    "from sklearn.model_selection import GridSearchCV"
   ]
  },
  {
   "cell_type": "markdown",
   "metadata": {},
   "source": [
    "# Read Data"
   ]
  },
  {
   "cell_type": "code",
   "execution_count": 3,
   "metadata": {},
   "outputs": [],
   "source": [
    "x_train = np.genfromtxt('x_train.csv', delimiter = ',')[1:, 1:]\n",
    "x_validate = np.genfromtxt('x_validate.csv', delimiter = ',')[1:, 1:]\n",
    "x_test = np.genfromtxt('x_test.csv', delimiter = ',')[1:, 1:]"
   ]
  },
  {
   "cell_type": "code",
   "execution_count": 4,
   "metadata": {},
   "outputs": [],
   "source": [
    "y_train = np.genfromtxt('y_train.csv', delimiter = ',')[1:, 1:]\n",
    "y_train = y_train.reshape(y_train.shape[0])\n",
    "\n",
    "y_test = np.genfromtxt('y_test.csv', delimiter = ',')[1:, 1:]\n",
    "y_test = y_test.reshape(y_test.shape[0])\n",
    "\n",
    "y_validate = np.genfromtxt('y_validate.csv', delimiter = ',')[1:, 1:]\n",
    "y_validate = y_validate.reshape(y_validate.shape[0])"
   ]
  },
  {
   "cell_type": "markdown",
   "metadata": {},
   "source": [
    "# Base Line Model (With Out Optimization)"
   ]
  },
  {
   "cell_type": "code",
   "execution_count": 15,
   "metadata": {},
   "outputs": [],
   "source": [
    "clf = SVC(random_state = 0)\n",
    "clf.fit(x_train, y_train)\n",
    "y_pred_train = clf.predict(x_train)\n",
    "y_pred_test = clf.predict(x_test)"
   ]
  },
  {
   "cell_type": "code",
   "execution_count": 16,
   "metadata": {},
   "outputs": [
    {
     "name": "stdout",
     "output_type": "stream",
     "text": [
      "              precision    recall  f1-score   support\n",
      "\n",
      "         1.0       1.00      1.00      1.00       879\n",
      "         2.0       1.00      1.00      1.00       888\n",
      "         3.0       0.96      1.00      0.98       878\n",
      "         4.0       0.91      0.95      0.93       897\n",
      "         5.0       1.00      1.00      1.00       874\n",
      "         6.0       0.98      0.99      0.98       883\n",
      "         7.0       0.96      0.92      0.94       898\n",
      "         8.0       1.00      0.94      0.97       843\n",
      "\n",
      "    accuracy                           0.97      7040\n",
      "   macro avg       0.98      0.97      0.97      7040\n",
      "weighted avg       0.98      0.97      0.97      7040\n",
      "\n"
     ]
    }
   ],
   "source": [
    "print(classification_report(y_test, y_pred_test))"
   ]
  },
  {
   "cell_type": "code",
   "execution_count": 17,
   "metadata": {},
   "outputs": [
    {
     "name": "stdout",
     "output_type": "stream",
     "text": [
      "Test Accuracy Score :  0.9744318181818182\n",
      "Train Accuracy Score :  0.9939320388349514\n"
     ]
    }
   ],
   "source": [
    "print(\"Test Accuracy Score : \", accuracy_score(y_test, y_pred_test))\n",
    "print(\"Train Accuracy Score : \", accuracy_score(y_train, y_pred_train))"
   ]
  },
  {
   "cell_type": "markdown",
   "metadata": {},
   "source": [
    "# Parameter Tuning"
   ]
  },
  {
   "cell_type": "code",
   "execution_count": 24,
   "metadata": {},
   "outputs": [
    {
     "name": "stdout",
     "output_type": "stream",
     "text": [
      "Fitting 5 folds for each of 25 candidates, totalling 125 fits\n"
     ]
    },
    {
     "name": "stderr",
     "output_type": "stream",
     "text": [
      "[Parallel(n_jobs=-1)]: Using backend LokyBackend with 4 concurrent workers.\n",
      "[Parallel(n_jobs=-1)]: Done  24 tasks      | elapsed:  4.7min\n",
      "[Parallel(n_jobs=-1)]: Done 125 out of 125 | elapsed: 16.8min finished\n"
     ]
    },
    {
     "data": {
      "text/plain": [
       "GridSearchCV(cv=None, error_score=nan,\n",
       "             estimator=SVC(C=1.0, break_ties=False, cache_size=200,\n",
       "                           class_weight=None, coef0=0.0,\n",
       "                           decision_function_shape='ovr', degree=3,\n",
       "                           gamma='scale', kernel='rbf', max_iter=-1,\n",
       "                           probability=False, random_state=None, shrinking=True,\n",
       "                           tol=0.001, verbose=False),\n",
       "             iid='deprecated', n_jobs=-1,\n",
       "             param_grid={'C': [0.1, 1, 10, 100, 1000],\n",
       "                         'gamma': [1, 0.1, 0.01, 0.001, 0.0001],\n",
       "                         'kernel': ['rbf']},\n",
       "             pre_dispatch='2*n_jobs', refit=True, return_train_score=False,\n",
       "             scoring=None, verbose=3)"
      ]
     },
     "execution_count": 24,
     "metadata": {},
     "output_type": "execute_result"
    }
   ],
   "source": [
    "# defining parameter range \n",
    "param_grid = {'C': [0.1, 1, 10, 100, 1000],  \n",
    "              'gamma': [1, 0.1, 0.01, 0.001, 0.0001], \n",
    "              'kernel': ['rbf']}  \n",
    "  \n",
    "grid = GridSearchCV(SVC(), param_grid, refit = True, verbose = 3, n_jobs = -1) \n",
    "  \n",
    "# fitting the model for grid search \n",
    "grid.fit(x_train, y_train) "
   ]
  },
  {
   "cell_type": "code",
   "execution_count": 25,
   "metadata": {},
   "outputs": [
    {
     "name": "stdout",
     "output_type": "stream",
     "text": [
      "{'C': 1000, 'gamma': 0.01, 'kernel': 'rbf'}\n",
      "SVC(C=1000, break_ties=False, cache_size=200, class_weight=None, coef0=0.0,\n",
      "    decision_function_shape='ovr', degree=3, gamma=0.01, kernel='rbf',\n",
      "    max_iter=-1, probability=False, random_state=None, shrinking=True,\n",
      "    tol=0.001, verbose=False)\n"
     ]
    }
   ],
   "source": [
    "# print best parameter after tuning \n",
    "print(grid.best_params_) \n",
    "  \n",
    "# print how our model looks after hyper-parameter tuning \n",
    "print(grid.best_estimator_) "
   ]
  },
  {
   "cell_type": "code",
   "execution_count": 28,
   "metadata": {},
   "outputs": [],
   "source": [
    "# testing the model\n",
    "y_pred = grid.predict(x_test)"
   ]
  },
  {
   "cell_type": "code",
   "execution_count": 29,
   "metadata": {},
   "outputs": [
    {
     "name": "stdout",
     "output_type": "stream",
     "text": [
      "              precision    recall  f1-score   support\n",
      "\n",
      "         1.0       1.00      1.00      1.00       879\n",
      "         2.0       1.00      1.00      1.00       888\n",
      "         3.0       0.95      1.00      0.97       878\n",
      "         4.0       0.87      0.96      0.91       897\n",
      "         5.0       1.00      1.00      1.00       874\n",
      "         6.0       0.98      0.99      0.99       883\n",
      "         7.0       0.96      0.91      0.93       898\n",
      "         8.0       1.00      0.88      0.94       843\n",
      "\n",
      "    accuracy                           0.97      7040\n",
      "   macro avg       0.97      0.97      0.97      7040\n",
      "weighted avg       0.97      0.97      0.97      7040\n",
      "\n",
      "\n",
      "\n",
      "Confusion Matrix : \n",
      "\n",
      "[[879   0   0   0   0   0   0   0]\n",
      " [  0 888   0   0   0   0   0   0]\n",
      " [  0   0 877   1   0   0   0   0]\n",
      " [  0   0   1 863   0   4  29   0]\n",
      " [  0   0   1   0 871   2   0   0]\n",
      " [  0   0   2   3   0 876   2   0]\n",
      " [  0   0   0  71   0  13 814   0]\n",
      " [  0   0  42  58   0   0   0 743]]\n",
      "\n",
      "\n",
      " Accuracy Score :  0.967471590909091\n"
     ]
    }
   ],
   "source": [
    "# performance analysis of the model\n",
    "class_rep = classification_report(y_test, y_pred)\n",
    "conf_mat = confusion_matrix(y_test, y_pred)\n",
    "accuracy = accuracy_score(y_test, y_pred)\n",
    "print(class_rep)\n",
    "print('\\n\\nConfusion Matrix : \\n')\n",
    "print(conf_mat)\n",
    "print('\\n\\n Accuracy Score : ', accuracy)"
   ]
  },
  {
   "cell_type": "code",
   "execution_count": 30,
   "metadata": {},
   "outputs": [
    {
     "data": {
      "text/plain": [
       "Text(114.0, 0.5, 'Actual Class')"
      ]
     },
     "execution_count": 30,
     "metadata": {},
     "output_type": "execute_result"
    },
    {
     "data": {
      "image/png": "[encoded data removed]",
      "text/plain": [
       "<Figure size 1080x720 with 2 Axes>"
      ]
     },
     "metadata": {
      "needs_background": "light"
     },
     "output_type": "display_data"
    }
   ],
   "source": [
    "# visualization of the predicted class vs actual class (0 based indexing)\n",
    "plt.figure(figsize = (15, 10))\n",
    "classes = [i for i in range(1, 9)]\n",
    "svm_df = pd.DataFrame(conf_mat, index = classes, columns = classes)\n",
    "sns.heatmap(svm_df, annot = True)\n",
    "plt.xlabel('Predicted Class')\n",
    "plt.ylabel('Actual Class')"
   ]
  },
  {
   "cell_type": "code",
   "execution_count": 31,
   "metadata": {},
   "outputs": [],
   "source": [
    "# Accuracy Score = 0.97"
   ]
  },
  {
   "cell_type": "code",
   "execution_count": null,
   "metadata": {},
   "outputs": [],
   "source": []
  }
 ],
 "metadata": {
  "kernelspec": {
   "display_name": "Python 3",
   "language": "python",
   "name": "python3"
  },
  "language_info": {
   "codemirror_mode": {
    "name": "ipython",
    "version": 3
   },
   "file_extension": ".py",
   "mimetype": "text/x-python",
   "name": "python",
   "nbconvert_exporter": "python",
   "pygments_lexer": "ipython3",
   "version": "3.7.6"
  }
 },
 "nbformat": 4,
 "nbformat_minor": 4
}
